{
 "cells": [
  {
   "cell_type": "code",
   "execution_count": 2,
   "metadata": {},
   "outputs": [
    {
     "name": "stdout",
     "output_type": "stream",
     "text": [
      "Computer Turn: Stone(st) paper(p) scisor(sc)?\n",
      "Your Turn: Stone(st) paper(p) scisor(sc)? st\n",
      "Computer choose:  st\n",
      "you Choose:  st\n",
      "game is draw!\n"
     ]
    }
   ],
   "source": [
    "import random\n",
    "def game(comp,you):\n",
    "    if(comp==you):\n",
    "        return None\n",
    "    elif(comp=='st'):\n",
    "        if(you=='p'):\n",
    "            return True\n",
    "        elif(you=='sc'):\n",
    "            return False\n",
    "    elif(comp=='p'):\n",
    "        if(you=='sc'):\n",
    "            return True\n",
    "        elif(you=='st'):\n",
    "            return False\n",
    "    elif(comp=='sc'):\n",
    "        if(you=='st'):\n",
    "            return True\n",
    "        elif(you=='p'):\n",
    "            return False\n",
    "print(\"Computer Turn: Stone(st) paper(p) scisor(sc)?\")\n",
    "randNo = random.randint(1,3)\n",
    "if(randNo==1):\n",
    "    comp='st'\n",
    "elif(randNo==2):\n",
    "    comp='p'\n",
    "elif(randNo==3):\n",
    "    comp='sc'\n",
    "you = input(\"Your Turn: Stone(st) paper(p) scisor(sc)? \")\n",
    "print(\"Computer choose: \",comp)\n",
    "print(\"you Choose: \",you)\n",
    "a=game(comp,you)\n",
    "if(a==None):\n",
    "    print(\"game is draw!\")\n",
    "elif(a==True):\n",
    "    print(\"You Win!\")\n",
    "elif(a==False):\n",
    "    print(\"You lost!\")"
   ]
  },
  {
   "cell_type": "code",
   "execution_count": null,
   "metadata": {},
   "outputs": [],
   "source": []
  }
 ],
 "metadata": {
  "kernelspec": {
   "display_name": "Python 3",
   "language": "python",
   "name": "python3"
  },
  "language_info": {
   "codemirror_mode": {
    "name": "ipython",
    "version": 3
   },
   "file_extension": ".py",
   "mimetype": "text/x-python",
   "name": "python",
   "nbconvert_exporter": "python",
   "pygments_lexer": "ipython3",
   "version": "3.7.4"
  }
 },
 "nbformat": 4,
 "nbformat_minor": 2
}
